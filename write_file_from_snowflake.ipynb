{
 "cells": [
  {
   "cell_type": "code",
   "execution_count": 45,
   "id": "62b7e6c6-df54-4f19-a5bb-ee768c8bc132",
   "metadata": {},
   "outputs": [],
   "source": [
    "import snowflake.connector\n",
    "from snowflake.connector.pandas_tools import write_pandas  \n",
    "import pandas as pd"
   ]
  },
  {
   "cell_type": "code",
   "execution_count": 46,
   "id": "d901d7bc-fe97-4ed8-a02c-1a68764165a3",
   "metadata": {},
   "outputs": [],
   "source": [
    "# Establish a connection to Snowflake\n",
    "conn = snowflake.connector.connect(\n",
    "    user='AYUSH2903',\n",
    "    password='Ayush@123',\n",
    "    account='skrqypy-dy20786',\n",
    "    warehouse='dbt_wh',\n",
    "    database='dbt_db',\n",
    "    schema='dbt_schema',\n",
    "    role='dbt_role'\n",
    ")"
   ]
  },
  {
   "cell_type": "code",
   "execution_count": 47,
   "id": "1ffcd719-0236-4c45-ada7-cdcf29f0b1f9",
   "metadata": {},
   "outputs": [],
   "source": [
    "cur = conn.cursor()"
   ]
  },
  {
   "cell_type": "code",
   "execution_count": 48,
   "id": "83ca3988-09f8-4ae7-9828-f5b524002896",
   "metadata": {},
   "outputs": [],
   "source": [
    "# Step 1: Read the CSV file\n",
    "csv_file_path = 'C:/Users/DELL/CSV_LOCAL_DATA/Larget_public_con_head_fix.csv'  # Update with your CSV file path\n",
    "data = pd.read_csv(csv_file_path, nrows=0)"
   ]
  },
  {
   "cell_type": "code",
   "execution_count": 49,
   "id": "213826b9-aae9-4f5d-86e7-67ca24636147",
   "metadata": {},
   "outputs": [
    {
     "data": {
      "text/html": [
       "<div>\n",
       "<style scoped>\n",
       "    .dataframe tbody tr th:only-of-type {\n",
       "        vertical-align: middle;\n",
       "    }\n",
       "\n",
       "    .dataframe tbody tr th {\n",
       "        vertical-align: top;\n",
       "    }\n",
       "\n",
       "    .dataframe thead th {\n",
       "        text-align: right;\n",
       "    }\n",
       "</style>\n",
       "<table border=\"1\" class=\"dataframe\">\n",
       "  <thead>\n",
       "    <tr style=\"text-align: right;\">\n",
       "      <th></th>\n",
       "      <th>Company</th>\n",
       "      <th>Revenues</th>\n",
       "      <th>Profit</th>\n",
       "      <th>Profit_as_per</th>\n",
       "      <th>Category</th>\n",
       "    </tr>\n",
       "  </thead>\n",
       "  <tbody>\n",
       "  </tbody>\n",
       "</table>\n",
       "</div>"
      ],
      "text/plain": [
       "Empty DataFrame\n",
       "Columns: [Company,  Revenues,  Profit, Profit_as_per, Category]\n",
       "Index: []"
      ]
     },
     "execution_count": 49,
     "metadata": {},
     "output_type": "execute_result"
    }
   ],
   "source": [
    "data"
   ]
  },
  {
   "cell_type": "code",
   "execution_count": 50,
   "id": "66f01d49-9bb4-43fe-9a04-17417b52dc9e",
   "metadata": {},
   "outputs": [],
   "source": [
    "trg_table_name = \"TABLE_FROM_LOCAL_1_CODE\""
   ]
  },
  {
   "cell_type": "code",
   "execution_count": 54,
   "id": "e1563db1-20ac-4fe1-b47d-0c7b53daa9e1",
   "metadata": {},
   "outputs": [
    {
     "data": {
      "text/plain": [
       "['Company', ' Revenues', ' Profit', 'Profit_as_per', 'Category']"
      ]
     },
     "execution_count": 54,
     "metadata": {},
     "output_type": "execute_result"
    }
   ],
   "source": [
    "columns = data.columns.tolist()\n",
    "columns"
   ]
  },
  {
   "cell_type": "code",
   "execution_count": 55,
   "id": "7d8ed65a-2074-4cae-ad55-3d2d93759075",
   "metadata": {},
   "outputs": [],
   "source": [
    "create_table_query = f\"\"\"\n",
    "CREATE OR REPLACE TABLE {trg_table_name} (\n",
    "    {', '.join([f'\"{col}\" STRING' for col in columns])}\n",
    ");\n",
    "\"\"\""
   ]
  },
  {
   "cell_type": "code",
   "execution_count": 56,
   "id": "c6f6da00-87e6-4a3e-94e3-454239184986",
   "metadata": {},
   "outputs": [],
   "source": [
    "# Execute the CREATE TABLE query\n",
    "with conn.cursor() as cursor:\n",
    "    cursor.execute(create_table_query)"
   ]
  },
  {
   "cell_type": "code",
   "execution_count": 57,
   "id": "de8670da-fcd8-49dc-aef3-6c5de40c509c",
   "metadata": {},
   "outputs": [
    {
     "name": "stdout",
     "output_type": "stream",
     "text": [
      "0\n"
     ]
    }
   ],
   "source": [
    "#checking if overwrite table is blank\n",
    "cur.execute(f\"SELECT * FROM {trg_table_name}\")\n",
    "rows = cur.fetchall()\n",
    "\n",
    "# Print the results\n",
    "print(len(rows))"
   ]
  },
  {
   "cell_type": "code",
   "execution_count": 58,
   "id": "63904fdc-84a6-472f-a502-dd65cf930712",
   "metadata": {},
   "outputs": [],
   "source": [
    "full_data = pd.read_csv(csv_file_path)"
   ]
  },
  {
   "cell_type": "code",
   "execution_count": 59,
   "id": "b79485ab-0ae5-462a-a73a-cc688f2da44d",
   "metadata": {},
   "outputs": [
    {
     "data": {
      "text/html": [
       "<div>\n",
       "<style scoped>\n",
       "    .dataframe tbody tr th:only-of-type {\n",
       "        vertical-align: middle;\n",
       "    }\n",
       "\n",
       "    .dataframe tbody tr th {\n",
       "        vertical-align: top;\n",
       "    }\n",
       "\n",
       "    .dataframe thead th {\n",
       "        text-align: right;\n",
       "    }\n",
       "</style>\n",
       "<table border=\"1\" class=\"dataframe\">\n",
       "  <thead>\n",
       "    <tr style=\"text-align: right;\">\n",
       "      <th></th>\n",
       "      <th>Company</th>\n",
       "      <th>Revenues</th>\n",
       "      <th>Profit</th>\n",
       "      <th>Profit_as_per</th>\n",
       "      <th>Category</th>\n",
       "    </tr>\n",
       "  </thead>\n",
       "  <tbody>\n",
       "    <tr>\n",
       "      <th>0</th>\n",
       "      <td>Johnson &amp; Johnson</td>\n",
       "      <td>$71,890</td>\n",
       "      <td>$18,540</td>\n",
       "      <td>25.80%</td>\n",
       "      <td>Pharmaceuticals</td>\n",
       "    </tr>\n",
       "    <tr>\n",
       "      <th>1</th>\n",
       "      <td>Altria Group</td>\n",
       "      <td>$19,337</td>\n",
       "      <td>$14,239</td>\n",
       "      <td>73.60%</td>\n",
       "      <td>Tobacco</td>\n",
       "    </tr>\n",
       "  </tbody>\n",
       "</table>\n",
       "</div>"
      ],
      "text/plain": [
       "             Company   Revenues     Profit Profit_as_per         Category\n",
       "0  Johnson & Johnson   $71,890    $18,540         25.80%  Pharmaceuticals\n",
       "1       Altria Group   $19,337    $14,239         73.60%          Tobacco"
      ]
     },
     "execution_count": 59,
     "metadata": {},
     "output_type": "execute_result"
    }
   ],
   "source": [
    "full_data.head(2)"
   ]
  },
  {
   "cell_type": "code",
   "execution_count": 60,
   "id": "54126d5f-d76d-4ebf-908c-abf350ddd758",
   "metadata": {},
   "outputs": [],
   "source": [
    "# Use the `write_pandas` method to load the DataFrame into Snowflake\n",
    "success, num_chunks, num_rows, _ = write_pandas(\n",
    "    conn,\n",
    "    full_data,\n",
    "    trg_table_name,\n",
    "    auto_create_table=False,\n",
    "    overwrite=True  # Set to True to overwrite existing data\n",
    ")"
   ]
  },
  {
   "cell_type": "code",
   "execution_count": 61,
   "id": "1871f1da-623d-4bab-8219-9e68797a7b06",
   "metadata": {},
   "outputs": [
    {
     "name": "stdout",
     "output_type": "stream",
     "text": [
      "Loaded 36 rows into TABLE_FROM_LOCAL_1_CODE\n"
     ]
    }
   ],
   "source": [
    "# Check if the data was loaded successfully\n",
    "if success:\n",
    "    print(f\"Loaded {num_rows} rows into {trg_table_name}\")\n",
    "else:\n",
    "    print(\"Data load failed.\")\n",
    "\n"
   ]
  },
  {
   "cell_type": "code",
   "execution_count": 62,
   "id": "0fcac840-097c-4ee1-b55b-97e50cc7a3e7",
   "metadata": {},
   "outputs": [
    {
     "data": {
      "text/plain": [
       "36"
      ]
     },
     "execution_count": 62,
     "metadata": {},
     "output_type": "execute_result"
    }
   ],
   "source": [
    "#checking if overwrite table is blank\n",
    "cur.execute(f\"SELECT * FROM {trg_table_name}\")\n",
    "rows = cur.fetchall()\n",
    "\n",
    "# Print the results\n",
    "row_count = len(rows)\n",
    "row_count"
   ]
  },
  {
   "cell_type": "code",
   "execution_count": 63,
   "id": "ece59783-305c-4083-a834-1c1862c476cb",
   "metadata": {},
   "outputs": [],
   "source": [
    "# Close the connection\n",
    "conn.close()"
   ]
  },
  {
   "cell_type": "code",
   "execution_count": null,
   "id": "b0d37eca-8650-45f7-92cf-d8690d64a2cc",
   "metadata": {},
   "outputs": [],
   "source": []
  }
 ],
 "metadata": {
  "kernelspec": {
   "display_name": "Python 3 (ipykernel)",
   "language": "python",
   "name": "python3"
  },
  "language_info": {
   "codemirror_mode": {
    "name": "ipython",
    "version": 3
   },
   "file_extension": ".py",
   "mimetype": "text/x-python",
   "name": "python",
   "nbconvert_exporter": "python",
   "pygments_lexer": "ipython3",
   "version": "3.12.7"
  }
 },
 "nbformat": 4,
 "nbformat_minor": 5
}
